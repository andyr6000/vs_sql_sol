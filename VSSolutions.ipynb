{
 "cells": [
  {
   "cell_type": "code",
   "execution_count": null,
   "metadata": {},
   "outputs": [],
   "source": [
    "#Import Libraries\n",
    "import cx_Oracle\n",
    "import pandas as pd"
   ]
  },
  {
   "cell_type": "code",
   "execution_count": null,
   "metadata": {},
   "outputs": [],
   "source": [
    "#Connect to Database\n",
    "connstr = \"user/password@abcxyz.com:1521/orcl\"\n",
    "connection = cx_Oracle.connect(connstr)\n",
    "\n"
   ]
  },
  {
   "cell_type": "code",
   "execution_count": null,
   "metadata": {},
   "outputs": [],
   "source": [
    "# 7 Based on attached table structure, write a query to return the last 5 order ids (by order date) from the orders table\n",
    "\n",
    "sql1 = \"\"\"SELECT *\n",
    "FROM\n",
    "  (SELECT * FROM ORDERS ORDER BY ORDER_DATE DESC, ORDER_ID DESC\n",
    "  )\n",
    "WHERE ROWNUM <= 5\n",
    "ORDER BY ROWNUM\"\"\"\n",
    "\n",
    "df1 = pd.read_sql(sql1, con=connection)\n",
    "df1"
   ]
  },
  {
   "cell_type": "code",
   "execution_count": null,
   "metadata": {},
   "outputs": [],
   "source": [
    "#8  Based on attached table structure, write a query to return, by month, \n",
    "#   the unique number of events that had orders between 1/1/2017 and 12/31/2017 inclusive \n",
    "\n",
    "sql2 = \"\"\"SELECT TO_CHAR(ORDER_DATE,'YYYY/MM') YEAR_MONTH ,\n",
    "  COUNT(DISTINCT EVENT_ID) AS UNIQUE_EVENT_CT\n",
    "FROM ORDERS\n",
    "WHERE ORDER_DATE BETWEEN '01-JAN-2017' AND '31-DEC-2017'\n",
    "GROUP BY TO_CHAR(ORDER_DATE,'YYYY/MM')\n",
    "ORDER BY 1\"\"\"\n",
    "\n",
    "df2 = pd.read_sql(sql2, con=connection)\n",
    "df2"
   ]
  },
  {
   "cell_type": "code",
   "execution_count": null,
   "metadata": {},
   "outputs": [],
   "source": [
    "#9 Based on the attached table structure, write a query to return the total revenue, \n",
    "#  count of unique orders by event_name that occured between 3/15/2018 and 4/15/2018 inclusive\n",
    "\n",
    "sql3 = \"\"\"SELECT EV.EVENT_ID,\n",
    "  MAX(EV.EVENT_NAME)         AS EVENT_NAME,\n",
    "  COUNT(DISTINCT O.ORDER_ID) AS CT_DISTINCT_ORDER_ID,\n",
    "  SUM(O.ORDER_TOTAL)\n",
    "FROM ORDERS O,\n",
    "  EVENT EV\n",
    "WHERE O.EVENT_ID = EV.EVENT_ID\n",
    "AND EV.EVENT_DATE BETWEEN '15-MAR-2018' AND '15-APR-2018'\n",
    "GROUP BY EV.EVENT_ID\"\"\"\n",
    "\n",
    "df3 = pd.read_sql(sql3, con=connection)\n",
    "df3"
   ]
  },
  {
   "cell_type": "code",
   "execution_count": null,
   "metadata": {},
   "outputs": [],
   "source": [
    "#10 Based on the attached table structure, write a query to return a list of customer_ids \n",
    "#   and the number of orders by customers who have placed more than 5 orders between 3/15/2018 and 4/15/2018 inclusive\n",
    "\n",
    "sql4 = \"\"\"SELECT O.CUSTOMER_ID,\n",
    "  COUNT(0)CT_ORDERS\n",
    "FROM ORDERS O\n",
    "WHERE O.ORDER_DATE BETWEEN '15-MAR-2018' AND '15-APR-2018'\n",
    "GROUP BY O.CUSTOMER_ID\n",
    "HAVING COUNT(1) > 5\"\"\"\n",
    "\n",
    "df4 = pd.read_sql(sql4, con=connection)\n",
    "df4\n",
    "\n"
   ]
  },
  {
   "cell_type": "code",
   "execution_count": null,
   "metadata": {},
   "outputs": [],
   "source": [
    "#11 Based on the attached table structure, return the email_address of the customer along with the event_name \n",
    "#   and order_date of the most recent event all customers purchased\n",
    "\n",
    "sql5 = \"\"\"WITH TEMP_ORD AS\n",
    "  (SELECT O.CUSTOMER_ID,\n",
    "    O.EMAIL_ADDRESS,\n",
    "    O.EVENT_ID,\n",
    "    EV.EVENT_NAME,\n",
    "    O.ORDER_DATE,\n",
    "    ROW_NUMBER() OVER (PARTITION BY CUSTOMER_ID ORDER BY ORDER_DATE DESC) AS ROW_NUM\n",
    "  FROM ORDERS O,\n",
    "    EVENT EV\n",
    "  WHERE EV.EVENT_ID = O.EVENT_ID\n",
    "  )\n",
    "SELECT EMAIL_ADDRESS,\n",
    "  EVENT_NAME,\n",
    "  ORDER_DATE\n",
    "FROM TEMP_ORD\n",
    "WHERE ROW_NUM = 1\"\"\"\n",
    "\n",
    "df5 = pd.read_sql(sql5, con=connection)\n",
    "df5\n"
   ]
  },
  {
   "cell_type": "code",
   "execution_count": null,
   "metadata": {},
   "outputs": [],
   "source": [
    "#12 Based on the attached table structure, write a query to return the event_name, number of orders placed during the\n",
    "#   onsale_date, number of orders placed non-onsale dates for each event in January 2018\n",
    "\n",
    "sql6 = \"\"\"SELECT EV.EVENT_ID,\n",
    "  MAX(EV.EVENT_NAME) AS EVENT_NAME,\n",
    "  SUM(\n",
    "  CASE\n",
    "    WHEN TRUNC(O.ORDER_DATE) = TRUNC(EV.ONSALE_DATE)\n",
    "    THEN 1\n",
    "    ELSE 0\n",
    "  END) ORD_ONSALE_DT_CT,\n",
    "  SUM(\n",
    "  CASE\n",
    "    WHEN TRUNC(O.ORDER_DATE) <> TRUNC(EV.ONSALE_DATE)\n",
    "    THEN 1\n",
    "    ELSE 0\n",
    "  END ) ORD_NON_ONSALE_DT_CT\n",
    "FROM ORDERS O,\n",
    "  EVENT EV\n",
    "WHERE O.EVENT_ID = EV.EVENT_ID\n",
    "AND EV.EVENT_DATE BETWEEN '01-JAN-2018' AND '31-JAN-2018'\n",
    "GROUP BY EV.EVENT_ID\"\"\"\n",
    "\n",
    "df6 = pd.read_sql(sql6, con=connection)\n",
    "df6"
   ]
  },
  {
   "cell_type": "code",
   "execution_count": null,
   "metadata": {},
   "outputs": [],
   "source": [
    "# Close the connection\n",
    "\n",
    "connection.close()"
   ]
  }
 ],
 "metadata": {
  "kernelspec": {
   "display_name": "Python 3",
   "language": "python",
   "name": "python3"
  },
  "language_info": {
   "codemirror_mode": {
    "name": "ipython",
    "version": 3
   },
   "file_extension": ".py",
   "mimetype": "text/x-python",
   "name": "python",
   "nbconvert_exporter": "python",
   "pygments_lexer": "ipython3",
   "version": "3.7.1"
  }
 },
 "nbformat": 4,
 "nbformat_minor": 2
}
